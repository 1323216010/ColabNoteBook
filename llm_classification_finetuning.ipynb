{
  "metadata": {
    "kernelspec": {
      "display_name": "Python 3",
      "language": "python",
      "name": "python3"
    },
    "language_info": {
      "name": "python",
      "version": "3.11.11",
      "mimetype": "text/x-python",
      "codemirror_mode": {
        "name": "ipython",
        "version": 3
      },
      "pygments_lexer": "ipython3",
      "nbconvert_exporter": "python",
      "file_extension": ".py"
    },
    "kaggle": {
      "accelerator": "none",
      "dataSources": [
        {
          "sourceId": 86518,
          "databundleVersionId": 9809560,
          "sourceType": "competition"
        }
      ],
      "dockerImageVersionId": 31012,
      "isInternetEnabled": false,
      "language": "python",
      "sourceType": "notebook",
      "isGpuEnabled": false
    },
    "papermill": {
      "default_parameters": {},
      "duration": 334.536517,
      "end_time": "2024-12-19T16:22:42.129612",
      "environment_variables": {},
      "exception": null,
      "input_path": "__notebook__.ipynb",
      "output_path": "__notebook__.ipynb",
      "parameters": {},
      "start_time": "2024-12-19T16:17:07.593095",
      "version": "2.6.0"
    },
    "colab": {
      "provenance": [],
      "toc_visible": true,
      "include_colab_link": true
    },
    "widgets": {
      "application/vnd.jupyter.widget-state+json": {
        "4cf45a452c4b49e783a0df5d3efb8a4e": {
          "model_module": "@jupyter-widgets/controls",
          "model_name": "VBoxModel",
          "model_module_version": "1.5.0",
          "state": {
            "_dom_classes": [],
            "_model_module": "@jupyter-widgets/controls",
            "_model_module_version": "1.5.0",
            "_model_name": "VBoxModel",
            "_view_count": null,
            "_view_module": "@jupyter-widgets/controls",
            "_view_module_version": "1.5.0",
            "_view_name": "VBoxView",
            "box_style": "",
            "children": [
              "IPY_MODEL_fe4865d9368a4a0f888a2c5f87ad47c2",
              "IPY_MODEL_8fa52c56c7c54b1487269023677cce29",
              "IPY_MODEL_f95ba90f05724a1bacbe5241fa37eef1",
              "IPY_MODEL_bb5cb78ae74e495fbf176521f3331b0b",
              "IPY_MODEL_2893d08148e5455d8bd002557e5b22f8"
            ],
            "layout": "IPY_MODEL_d12cab2b8a1e4f81a05455aeb776c5d1"
          }
        },
        "fe4865d9368a4a0f888a2c5f87ad47c2": {
          "model_module": "@jupyter-widgets/controls",
          "model_name": "HTMLModel",
          "model_module_version": "1.5.0",
          "state": {
            "_dom_classes": [],
            "_model_module": "@jupyter-widgets/controls",
            "_model_module_version": "1.5.0",
            "_model_name": "HTMLModel",
            "_view_count": null,
            "_view_module": "@jupyter-widgets/controls",
            "_view_module_version": "1.5.0",
            "_view_name": "HTMLView",
            "description": "",
            "description_tooltip": null,
            "layout": "IPY_MODEL_1830949a894e40c2b09db3a02d1df9ba",
            "placeholder": "​",
            "style": "IPY_MODEL_edcfca57905e4de8aa4492dd7f823c5d",
            "value": "<center> <img\nsrc=https://www.kaggle.com/static/images/site-logo.png\nalt='Kaggle'> <br> Create an API token from <a\nhref=\"https://www.kaggle.com/settings/account\" target=\"_blank\">your Kaggle\nsettings page</a> and paste it below along with your Kaggle username. <br> </center>"
          }
        },
        "8fa52c56c7c54b1487269023677cce29": {
          "model_module": "@jupyter-widgets/controls",
          "model_name": "TextModel",
          "model_module_version": "1.5.0",
          "state": {
            "_dom_classes": [],
            "_model_module": "@jupyter-widgets/controls",
            "_model_module_version": "1.5.0",
            "_model_name": "TextModel",
            "_view_count": null,
            "_view_module": "@jupyter-widgets/controls",
            "_view_module_version": "1.5.0",
            "_view_name": "TextView",
            "continuous_update": true,
            "description": "Username:",
            "description_tooltip": null,
            "disabled": false,
            "layout": "IPY_MODEL_c457be2d5fa14e30ab9c376309bbbe93",
            "placeholder": "​",
            "style": "IPY_MODEL_75127b0110ca4373ba689586155ae2d3",
            "value": ""
          }
        },
        "f95ba90f05724a1bacbe5241fa37eef1": {
          "model_module": "@jupyter-widgets/controls",
          "model_name": "PasswordModel",
          "model_module_version": "1.5.0",
          "state": {
            "_dom_classes": [],
            "_model_module": "@jupyter-widgets/controls",
            "_model_module_version": "1.5.0",
            "_model_name": "PasswordModel",
            "_view_count": null,
            "_view_module": "@jupyter-widgets/controls",
            "_view_module_version": "1.5.0",
            "_view_name": "PasswordView",
            "continuous_update": true,
            "description": "Token:",
            "description_tooltip": null,
            "disabled": false,
            "layout": "IPY_MODEL_bb9081a8fb3a4722bd0c17a5265e13e6",
            "placeholder": "​",
            "style": "IPY_MODEL_91740327c1f04eefb11ecdf9a427d28c",
            "value": ""
          }
        },
        "bb5cb78ae74e495fbf176521f3331b0b": {
          "model_module": "@jupyter-widgets/controls",
          "model_name": "ButtonModel",
          "model_module_version": "1.5.0",
          "state": {
            "_dom_classes": [],
            "_model_module": "@jupyter-widgets/controls",
            "_model_module_version": "1.5.0",
            "_model_name": "ButtonModel",
            "_view_count": null,
            "_view_module": "@jupyter-widgets/controls",
            "_view_module_version": "1.5.0",
            "_view_name": "ButtonView",
            "button_style": "",
            "description": "Login",
            "disabled": false,
            "icon": "",
            "layout": "IPY_MODEL_18ded6b6821a493cb705c1aabc8d8b42",
            "style": "IPY_MODEL_75fa58b2611f4ef08036fbf42090158b",
            "tooltip": ""
          }
        },
        "2893d08148e5455d8bd002557e5b22f8": {
          "model_module": "@jupyter-widgets/controls",
          "model_name": "HTMLModel",
          "model_module_version": "1.5.0",
          "state": {
            "_dom_classes": [],
            "_model_module": "@jupyter-widgets/controls",
            "_model_module_version": "1.5.0",
            "_model_name": "HTMLModel",
            "_view_count": null,
            "_view_module": "@jupyter-widgets/controls",
            "_view_module_version": "1.5.0",
            "_view_name": "HTMLView",
            "description": "",
            "description_tooltip": null,
            "layout": "IPY_MODEL_06b6f25f959a4d84a901102cd80a68a6",
            "placeholder": "​",
            "style": "IPY_MODEL_7090d467b6f94aca9cb987a1b99e30a2",
            "value": "\n<b>Thank You</b></center>"
          }
        },
        "d12cab2b8a1e4f81a05455aeb776c5d1": {
          "model_module": "@jupyter-widgets/base",
          "model_name": "LayoutModel",
          "model_module_version": "1.2.0",
          "state": {
            "_model_module": "@jupyter-widgets/base",
            "_model_module_version": "1.2.0",
            "_model_name": "LayoutModel",
            "_view_count": null,
            "_view_module": "@jupyter-widgets/base",
            "_view_module_version": "1.2.0",
            "_view_name": "LayoutView",
            "align_content": null,
            "align_items": "center",
            "align_self": null,
            "border": null,
            "bottom": null,
            "display": "flex",
            "flex": null,
            "flex_flow": "column",
            "grid_area": null,
            "grid_auto_columns": null,
            "grid_auto_flow": null,
            "grid_auto_rows": null,
            "grid_column": null,
            "grid_gap": null,
            "grid_row": null,
            "grid_template_areas": null,
            "grid_template_columns": null,
            "grid_template_rows": null,
            "height": null,
            "justify_content": null,
            "justify_items": null,
            "left": null,
            "margin": null,
            "max_height": null,
            "max_width": null,
            "min_height": null,
            "min_width": null,
            "object_fit": null,
            "object_position": null,
            "order": null,
            "overflow": null,
            "overflow_x": null,
            "overflow_y": null,
            "padding": null,
            "right": null,
            "top": null,
            "visibility": null,
            "width": "50%"
          }
        },
        "1830949a894e40c2b09db3a02d1df9ba": {
          "model_module": "@jupyter-widgets/base",
          "model_name": "LayoutModel",
          "model_module_version": "1.2.0",
          "state": {
            "_model_module": "@jupyter-widgets/base",
            "_model_module_version": "1.2.0",
            "_model_name": "LayoutModel",
            "_view_count": null,
            "_view_module": "@jupyter-widgets/base",
            "_view_module_version": "1.2.0",
            "_view_name": "LayoutView",
            "align_content": null,
            "align_items": null,
            "align_self": null,
            "border": null,
            "bottom": null,
            "display": null,
            "flex": null,
            "flex_flow": null,
            "grid_area": null,
            "grid_auto_columns": null,
            "grid_auto_flow": null,
            "grid_auto_rows": null,
            "grid_column": null,
            "grid_gap": null,
            "grid_row": null,
            "grid_template_areas": null,
            "grid_template_columns": null,
            "grid_template_rows": null,
            "height": null,
            "justify_content": null,
            "justify_items": null,
            "left": null,
            "margin": null,
            "max_height": null,
            "max_width": null,
            "min_height": null,
            "min_width": null,
            "object_fit": null,
            "object_position": null,
            "order": null,
            "overflow": null,
            "overflow_x": null,
            "overflow_y": null,
            "padding": null,
            "right": null,
            "top": null,
            "visibility": null,
            "width": null
          }
        },
        "edcfca57905e4de8aa4492dd7f823c5d": {
          "model_module": "@jupyter-widgets/controls",
          "model_name": "DescriptionStyleModel",
          "model_module_version": "1.5.0",
          "state": {
            "_model_module": "@jupyter-widgets/controls",
            "_model_module_version": "1.5.0",
            "_model_name": "DescriptionStyleModel",
            "_view_count": null,
            "_view_module": "@jupyter-widgets/base",
            "_view_module_version": "1.2.0",
            "_view_name": "StyleView",
            "description_width": ""
          }
        },
        "c457be2d5fa14e30ab9c376309bbbe93": {
          "model_module": "@jupyter-widgets/base",
          "model_name": "LayoutModel",
          "model_module_version": "1.2.0",
          "state": {
            "_model_module": "@jupyter-widgets/base",
            "_model_module_version": "1.2.0",
            "_model_name": "LayoutModel",
            "_view_count": null,
            "_view_module": "@jupyter-widgets/base",
            "_view_module_version": "1.2.0",
            "_view_name": "LayoutView",
            "align_content": null,
            "align_items": null,
            "align_self": null,
            "border": null,
            "bottom": null,
            "display": null,
            "flex": null,
            "flex_flow": null,
            "grid_area": null,
            "grid_auto_columns": null,
            "grid_auto_flow": null,
            "grid_auto_rows": null,
            "grid_column": null,
            "grid_gap": null,
            "grid_row": null,
            "grid_template_areas": null,
            "grid_template_columns": null,
            "grid_template_rows": null,
            "height": null,
            "justify_content": null,
            "justify_items": null,
            "left": null,
            "margin": null,
            "max_height": null,
            "max_width": null,
            "min_height": null,
            "min_width": null,
            "object_fit": null,
            "object_position": null,
            "order": null,
            "overflow": null,
            "overflow_x": null,
            "overflow_y": null,
            "padding": null,
            "right": null,
            "top": null,
            "visibility": null,
            "width": null
          }
        },
        "75127b0110ca4373ba689586155ae2d3": {
          "model_module": "@jupyter-widgets/controls",
          "model_name": "DescriptionStyleModel",
          "model_module_version": "1.5.0",
          "state": {
            "_model_module": "@jupyter-widgets/controls",
            "_model_module_version": "1.5.0",
            "_model_name": "DescriptionStyleModel",
            "_view_count": null,
            "_view_module": "@jupyter-widgets/base",
            "_view_module_version": "1.2.0",
            "_view_name": "StyleView",
            "description_width": ""
          }
        },
        "bb9081a8fb3a4722bd0c17a5265e13e6": {
          "model_module": "@jupyter-widgets/base",
          "model_name": "LayoutModel",
          "model_module_version": "1.2.0",
          "state": {
            "_model_module": "@jupyter-widgets/base",
            "_model_module_version": "1.2.0",
            "_model_name": "LayoutModel",
            "_view_count": null,
            "_view_module": "@jupyter-widgets/base",
            "_view_module_version": "1.2.0",
            "_view_name": "LayoutView",
            "align_content": null,
            "align_items": null,
            "align_self": null,
            "border": null,
            "bottom": null,
            "display": null,
            "flex": null,
            "flex_flow": null,
            "grid_area": null,
            "grid_auto_columns": null,
            "grid_auto_flow": null,
            "grid_auto_rows": null,
            "grid_column": null,
            "grid_gap": null,
            "grid_row": null,
            "grid_template_areas": null,
            "grid_template_columns": null,
            "grid_template_rows": null,
            "height": null,
            "justify_content": null,
            "justify_items": null,
            "left": null,
            "margin": null,
            "max_height": null,
            "max_width": null,
            "min_height": null,
            "min_width": null,
            "object_fit": null,
            "object_position": null,
            "order": null,
            "overflow": null,
            "overflow_x": null,
            "overflow_y": null,
            "padding": null,
            "right": null,
            "top": null,
            "visibility": null,
            "width": null
          }
        },
        "91740327c1f04eefb11ecdf9a427d28c": {
          "model_module": "@jupyter-widgets/controls",
          "model_name": "DescriptionStyleModel",
          "model_module_version": "1.5.0",
          "state": {
            "_model_module": "@jupyter-widgets/controls",
            "_model_module_version": "1.5.0",
            "_model_name": "DescriptionStyleModel",
            "_view_count": null,
            "_view_module": "@jupyter-widgets/base",
            "_view_module_version": "1.2.0",
            "_view_name": "StyleView",
            "description_width": ""
          }
        },
        "18ded6b6821a493cb705c1aabc8d8b42": {
          "model_module": "@jupyter-widgets/base",
          "model_name": "LayoutModel",
          "model_module_version": "1.2.0",
          "state": {
            "_model_module": "@jupyter-widgets/base",
            "_model_module_version": "1.2.0",
            "_model_name": "LayoutModel",
            "_view_count": null,
            "_view_module": "@jupyter-widgets/base",
            "_view_module_version": "1.2.0",
            "_view_name": "LayoutView",
            "align_content": null,
            "align_items": null,
            "align_self": null,
            "border": null,
            "bottom": null,
            "display": null,
            "flex": null,
            "flex_flow": null,
            "grid_area": null,
            "grid_auto_columns": null,
            "grid_auto_flow": null,
            "grid_auto_rows": null,
            "grid_column": null,
            "grid_gap": null,
            "grid_row": null,
            "grid_template_areas": null,
            "grid_template_columns": null,
            "grid_template_rows": null,
            "height": null,
            "justify_content": null,
            "justify_items": null,
            "left": null,
            "margin": null,
            "max_height": null,
            "max_width": null,
            "min_height": null,
            "min_width": null,
            "object_fit": null,
            "object_position": null,
            "order": null,
            "overflow": null,
            "overflow_x": null,
            "overflow_y": null,
            "padding": null,
            "right": null,
            "top": null,
            "visibility": null,
            "width": null
          }
        },
        "75fa58b2611f4ef08036fbf42090158b": {
          "model_module": "@jupyter-widgets/controls",
          "model_name": "ButtonStyleModel",
          "model_module_version": "1.5.0",
          "state": {
            "_model_module": "@jupyter-widgets/controls",
            "_model_module_version": "1.5.0",
            "_model_name": "ButtonStyleModel",
            "_view_count": null,
            "_view_module": "@jupyter-widgets/base",
            "_view_module_version": "1.2.0",
            "_view_name": "StyleView",
            "button_color": null,
            "font_weight": ""
          }
        },
        "06b6f25f959a4d84a901102cd80a68a6": {
          "model_module": "@jupyter-widgets/base",
          "model_name": "LayoutModel",
          "model_module_version": "1.2.0",
          "state": {
            "_model_module": "@jupyter-widgets/base",
            "_model_module_version": "1.2.0",
            "_model_name": "LayoutModel",
            "_view_count": null,
            "_view_module": "@jupyter-widgets/base",
            "_view_module_version": "1.2.0",
            "_view_name": "LayoutView",
            "align_content": null,
            "align_items": null,
            "align_self": null,
            "border": null,
            "bottom": null,
            "display": null,
            "flex": null,
            "flex_flow": null,
            "grid_area": null,
            "grid_auto_columns": null,
            "grid_auto_flow": null,
            "grid_auto_rows": null,
            "grid_column": null,
            "grid_gap": null,
            "grid_row": null,
            "grid_template_areas": null,
            "grid_template_columns": null,
            "grid_template_rows": null,
            "height": null,
            "justify_content": null,
            "justify_items": null,
            "left": null,
            "margin": null,
            "max_height": null,
            "max_width": null,
            "min_height": null,
            "min_width": null,
            "object_fit": null,
            "object_position": null,
            "order": null,
            "overflow": null,
            "overflow_x": null,
            "overflow_y": null,
            "padding": null,
            "right": null,
            "top": null,
            "visibility": null,
            "width": null
          }
        },
        "7090d467b6f94aca9cb987a1b99e30a2": {
          "model_module": "@jupyter-widgets/controls",
          "model_name": "DescriptionStyleModel",
          "model_module_version": "1.5.0",
          "state": {
            "_model_module": "@jupyter-widgets/controls",
            "_model_module_version": "1.5.0",
            "_model_name": "DescriptionStyleModel",
            "_view_count": null,
            "_view_module": "@jupyter-widgets/base",
            "_view_module_version": "1.2.0",
            "_view_name": "StyleView",
            "description_width": ""
          }
        }
      }
    }
  },
  "nbformat_minor": 0,
  "nbformat": 4,
  "cells": [
    {
      "cell_type": "markdown",
      "metadata": {
        "id": "view-in-github",
        "colab_type": "text"
      },
      "source": [
        "<a href=\"https://colab.research.google.com/github/1323216010/ColabNoteBook/blob/main/llm_classification_finetuning.ipynb\" target=\"_parent\"><img src=\"https://colab.research.google.com/assets/colab-badge.svg\" alt=\"Open In Colab\"/></a>"
      ]
    },
    {
      "cell_type": "markdown",
      "source": [
        "# 登录kaggle并下载数据集"
      ],
      "metadata": {
        "id": "EbgFprF3MOZa"
      }
    },
    {
      "source": [
        "import kagglehub\n",
        "kagglehub.login()\n",
        "# {\"username\":\"yan160100\",\"key\":\"399e99783d0b56f99baf4f900899c9f3\"}\n",
        "\n",
        "llm_classification_finetuning_path = kagglehub.competition_download('llm-classification-finetuning')\n",
        "\n",
        "print(llm_classification_finetuning_path)\n"
      ],
      "metadata": {
        "id": "zBJBulQaFv_u",
        "outputId": "6d66e742-05b8-4152-d47f-f36eb047c25f",
        "colab": {
          "base_uri": "https://localhost:8080/",
          "height": 292,
          "referenced_widgets": [
            "4cf45a452c4b49e783a0df5d3efb8a4e",
            "fe4865d9368a4a0f888a2c5f87ad47c2",
            "8fa52c56c7c54b1487269023677cce29",
            "f95ba90f05724a1bacbe5241fa37eef1",
            "bb5cb78ae74e495fbf176521f3331b0b",
            "2893d08148e5455d8bd002557e5b22f8",
            "d12cab2b8a1e4f81a05455aeb776c5d1",
            "1830949a894e40c2b09db3a02d1df9ba",
            "edcfca57905e4de8aa4492dd7f823c5d",
            "c457be2d5fa14e30ab9c376309bbbe93",
            "75127b0110ca4373ba689586155ae2d3",
            "bb9081a8fb3a4722bd0c17a5265e13e6",
            "91740327c1f04eefb11ecdf9a427d28c",
            "18ded6b6821a493cb705c1aabc8d8b42",
            "75fa58b2611f4ef08036fbf42090158b",
            "06b6f25f959a4d84a901102cd80a68a6",
            "7090d467b6f94aca9cb987a1b99e30a2"
          ]
        }
      },
      "cell_type": "code",
      "outputs": [
        {
          "output_type": "display_data",
          "data": {
            "text/plain": [
              "VBox(children=(HTML(value='<center> <img\\nsrc=https://www.kaggle.com/static/images/site-logo.png\\nalt=\\'Kaggle…"
            ],
            "application/vnd.jupyter.widget-view+json": {
              "version_major": 2,
              "version_minor": 0,
              "model_id": "4cf45a452c4b49e783a0df5d3efb8a4e"
            }
          },
          "metadata": {}
        },
        {
          "output_type": "stream",
          "name": "stdout",
          "text": [
            "/root/.cache/kagglehub/competitions/llm-classification-finetuning\n"
          ]
        }
      ],
      "execution_count": 11
    },
    {
      "cell_type": "markdown",
      "source": [
        "# 定义函数"
      ],
      "metadata": {
        "id": "EmiD_lCFR51R"
      }
    },
    {
      "cell_type": "markdown",
      "source": [
        "<a href=\"https://www.kaggle.com/code/carlacotas/llm-classification-finetuning?scriptVersionId=213890913\" target=\"_blank\"><img align=\"left\" alt=\"Kaggle\" title=\"Open in Kaggle\" src=\"https://kaggle.com/static/images/open-in-kaggle.svg\"></a>"
      ],
      "metadata": {
        "id": "jwjJolNNFv_u"
      }
    },
    {
      "cell_type": "code",
      "source": [
        "import re\n",
        "\n",
        "import nltk\n",
        "nltk.download('stopwords')\n",
        "nltk.download('punkt_tab')\n",
        "nltk.download('wordnet')\n",
        "from nltk.corpus import stopwords\n",
        "\n",
        "def which_winner(value):\n",
        "    if value[\"winner_model_a\"] == 1:\n",
        "        #winner model a\n",
        "        value[\"winner_model_b\"] = 0\n",
        "        value[\"winner_tie\"] = 0\n",
        "        return 0\n",
        "    elif value[\"winner_model_b\"] == 1:\n",
        "        #winner model b\n",
        "        return 1\n",
        "    elif value[\"winner_tie\"] == 1:\n",
        "        #winner tie\n",
        "        return 2\n",
        "    return None\n",
        "\n",
        "def preprocess_text(text):\n",
        "    # convert text to lower case\n",
        "    text = text.lower()\n",
        "    # remove digits and special characters using regular expressions\n",
        "    text = re.sub(r'\\d+', '', text)\n",
        "    text = re.sub(r'[^\\w\\s]', '', text)\n",
        "    # tokenize the text\n",
        "    text = nltk.word_tokenize(text)\n",
        "\n",
        "    return text\n",
        "\n",
        "\n",
        "def remove_stopwords(text):\n",
        "    # remove stopwords\n",
        "    stop_words = set(stopwords.words('english'))\n",
        "    text_no_stopwords = [word for word in text if word not in stop_words]\n",
        "\n",
        "    return text_no_stopwords\n",
        "\n",
        "\n",
        "def lemmatization(text):\n",
        "    lemmatizer = nltk.WordNetLemmatizer()\n",
        "    lemmatizer_text = [lemmatizer.lemmatize(text) for text in text]\n",
        "\n",
        "    return lemmatizer_text\n",
        "\n",
        "\n",
        "def clean_text(text):\n",
        "    # convert text to lower case, remove digits and special characters using regular expressions and remove stopwords combined together\n",
        "    text = preprocess_text(text)\n",
        "    filtered_text = remove_stopwords(text)\n",
        "    lemmatizer_text = lemmatization(filtered_text)\n",
        "    clean_text = ' '.join(lemmatizer_text)\n",
        "\n",
        "    return clean_text"
      ],
      "metadata": {
        "execution": {
          "iopub.status.busy": "2025-05-04T12:56:31.922831Z",
          "iopub.execute_input": "2025-05-04T12:56:31.923305Z",
          "iopub.status.idle": "2025-05-04T12:57:03.941133Z",
          "shell.execute_reply.started": "2025-05-04T12:56:31.923277Z",
          "shell.execute_reply": "2025-05-04T12:57:03.939671Z"
        },
        "papermill": {
          "duration": 34.267448,
          "end_time": "2024-12-19T16:17:46.170125",
          "exception": false,
          "start_time": "2024-12-19T16:17:11.902677",
          "status": "completed"
        },
        "tags": [],
        "trusted": true,
        "id": "FZhZeLOfFv_v",
        "outputId": "5b1f0aa9-b00f-4aeb-a955-3ff67a4e9fed",
        "colab": {
          "base_uri": "https://localhost:8080/"
        }
      },
      "outputs": [
        {
          "output_type": "stream",
          "name": "stderr",
          "text": [
            "[nltk_data] Downloading package stopwords to /root/nltk_data...\n",
            "[nltk_data]   Package stopwords is already up-to-date!\n",
            "[nltk_data] Downloading package punkt_tab to /root/nltk_data...\n",
            "[nltk_data]   Unzipping tokenizers/punkt_tab.zip.\n",
            "[nltk_data] Downloading package wordnet to /root/nltk_data...\n"
          ]
        }
      ],
      "execution_count": 6
    },
    {
      "cell_type": "markdown",
      "source": [],
      "metadata": {
        "id": "dG30UjtJwhX8"
      }
    },
    {
      "cell_type": "markdown",
      "source": [
        "# 1.数据预处理"
      ],
      "metadata": {
        "papermill": {
          "duration": 0.00911,
          "end_time": "2024-12-19T16:17:47.823075",
          "exception": false,
          "start_time": "2024-12-19T16:17:47.813965",
          "status": "completed"
        },
        "tags": [],
        "id": "u3LkvLxLFv_w"
      }
    },
    {
      "cell_type": "code",
      "source": [
        "import numpy as np\n",
        "import pandas as pd\n",
        "\n",
        "from sklearn.feature_extraction.text import TfidfVectorizer\n",
        "from sklearn.linear_model import LogisticRegression\n",
        "\n",
        "\n",
        "\n",
        "training = pd.read_csv(llm_classification_finetuning_path + '/train.csv')\n",
        "test = pd.read_csv(llm_classification_finetuning_path + '/test.csv')\n",
        "\n",
        "training[\"winner\"] = training.apply(which_winner, axis=1)\n",
        "\n",
        "\n",
        "training[\"prompt\"] = training[\"prompt\"].apply(clean_text)\n",
        "training[\"response_a\"] = training[\"response_a\"].apply(clean_text)\n",
        "training[\"response_b\"] = training[\"response_b\"].apply(clean_text)\n",
        "\n",
        "test[\"prompt\"] = test[\"prompt\"].apply(clean_text)\n",
        "test[\"response_a\"] = test[\"response_a\"].apply(clean_text)\n",
        "test[\"response_b\"] = test[\"response_b\"].apply(clean_text)\n",
        "\n",
        "print(\"Clean Cells with Text Data Complete\")"
      ],
      "metadata": {
        "trusted": true,
        "id": "BdO4XKkHFv_w",
        "outputId": "3707a52a-a6e3-4e6c-f477-b46a07e8360f",
        "colab": {
          "base_uri": "https://localhost:8080/"
        }
      },
      "outputs": [
        {
          "output_type": "stream",
          "name": "stdout",
          "text": [
            "Clean Cells with Text Data Complete\n"
          ]
        }
      ],
      "execution_count": 10
    },
    {
      "cell_type": "markdown",
      "source": [
        "# 2.模型训练"
      ],
      "metadata": {
        "id": "gvyQu8JpL3Um"
      }
    },
    {
      "cell_type": "code",
      "source": [
        "all_training_text = pd.concat([training[\"prompt\"], training[\"response_a\"], training[\"response_b\"]])\n",
        "vectorizer = TfidfVectorizer(max_features=150)\n",
        "vectorizer.fit(all_training_text)\n",
        "\n",
        "temp_prompt = vectorizer.transform(training[\"prompt\"])\n",
        "temp_response_a = vectorizer.transform(training[\"response_a\"])\n",
        "temp_response_b = vectorizer.transform(training[\"response_b\"])\n",
        "\n",
        "train_y = training[\"winner\"].values\n",
        "\n",
        "# choosing \"features\"\n",
        "train_X = np.concatenate((temp_prompt.toarray(), temp_response_a.toarray(), temp_response_b.toarray()), axis=1)\n",
        "\n",
        "# Logistic Regression\n",
        "model = LogisticRegression(max_iter=500, solver='saga')\n",
        "model.fit(train_X, train_y)\n"
      ],
      "metadata": {
        "trusted": true,
        "id": "vM6JGnUgFv_x",
        "colab": {
          "base_uri": "https://localhost:8080/"
        },
        "outputId": "3e576a00-7a1c-43e6-9fc4-f12508df960d"
      },
      "outputs": [
        {
          "output_type": "stream",
          "name": "stdout",
          "text": [
            "Model winner prediction, probability [[0.17741276 0.25972753 0.5628597 ]\n",
            " [0.2186103  0.42894133 0.35244836]\n",
            " [0.34910118 0.35471831 0.29618051]]\n"
          ]
        }
      ],
      "execution_count": 8
    },
    {
      "cell_type": "markdown",
      "source": [
        "# 3.输出"
      ],
      "metadata": {
        "id": "ONQKeEOtMHK9"
      }
    },
    {
      "cell_type": "code",
      "source": [
        "all_training_text = pd.concat([training[\"prompt\"], training[\"response_a\"], training[\"response_b\"]])\n",
        "vectorizer = TfidfVectorizer(max_features=150)\n",
        "vectorizer.fit(all_training_text)\n",
        "\n",
        "temp_test_prompt = vectorizer.transform(test[\"prompt\"])\n",
        "temp_test_response_a = vectorizer.transform(test[\"response_a\"])\n",
        "temp_test_response_b = vectorizer.transform(test[\"response_b\"])\n",
        "\n",
        "\n",
        "#model prediction\n",
        "test_X = np.concatenate((temp_test_prompt.toarray(), temp_test_response_a.toarray(), temp_test_response_b.toarray()), axis=1)\n",
        "value_test_y_probabilities = model.predict_proba(test_X)\n",
        "print('Model winner prediction, probability', value_test_y_probabilities) #winner model a | winner model b | winner tie\n",
        "\n",
        "\n",
        "output = pd.DataFrame({'id': test.id,\n",
        "                        'winner_model_a': value_test_y_probabilities[:, 0],\n",
        "                        'winner_model_b': value_test_y_probabilities[:, 1],\n",
        "                        'winner_tie': value_test_y_probabilities[:, 2]})\n",
        "output.to_csv('submission.csv', index=False)"
      ],
      "metadata": {
        "id": "Eeb_EHIgLpwV"
      },
      "execution_count": null,
      "outputs": []
    }
  ]
}