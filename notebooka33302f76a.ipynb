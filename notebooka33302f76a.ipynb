{
  "metadata": {
    "kernelspec": {
      "display_name": "Python 3",
      "language": "python",
      "name": "python3"
    },
    "language_info": {
      "codemirror_mode": {
        "name": "ipython",
        "version": 3
      },
      "file_extension": ".py",
      "mimetype": "text/x-python",
      "name": "python",
      "nbconvert_exporter": "python",
      "pygments_lexer": "ipython3",
      "version": "3.11.11"
    },
    "kaggle": {
      "accelerator": "none",
      "dataSources": [
        {
          "sourceId": 3004,
          "databundleVersionId": 861823,
          "sourceType": "competition"
        }
      ],
      "isInternetEnabled": true,
      "language": "python",
      "sourceType": "notebook",
      "isGpuEnabled": false
    },
    "papermill": {
      "default_parameters": {},
      "duration": 44.330641,
      "end_time": "2025-04-27T22:37:27.145193",
      "environment_variables": {},
      "exception": null,
      "input_path": "__notebook__.ipynb",
      "output_path": "__notebook__.ipynb",
      "parameters": {},
      "start_time": "2025-04-27T22:36:42.814552",
      "version": "2.6.0"
    },
    "colab": {
      "name": "notebooka33302f76a",
      "provenance": [],
      "include_colab_link": true
    }
  },
  "nbformat_minor": 0,
  "nbformat": 4,
  "cells": [
    {
      "cell_type": "markdown",
      "metadata": {
        "id": "view-in-github",
        "colab_type": "text"
      },
      "source": [
        "<a href=\"https://colab.research.google.com/github/1323216010/ColabNoteBook/blob/main/notebooka33302f76a.ipynb\" target=\"_parent\"><img src=\"https://colab.research.google.com/assets/colab-badge.svg\" alt=\"Open In Colab\"/></a>"
      ]
    },
    {
      "source": [
        "# IMPORTANT: SOME KAGGLE DATA SOURCES ARE PRIVATE\n",
        "# RUN THIS CELL IN ORDER TO IMPORT YOUR KAGGLE DATA SOURCES.\n",
        "import kagglehub\n",
        "kagglehub.login()\n"
      ],
      "metadata": {
        "id": "hw9V8txDO96F"
      },
      "cell_type": "code",
      "outputs": [],
      "execution_count": null
    },
    {
      "source": [
        "# IMPORTANT: RUN THIS CELL IN ORDER TO IMPORT YOUR KAGGLE DATA SOURCES,\n",
        "# THEN FEEL FREE TO DELETE THIS CELL.\n",
        "# NOTE: THIS NOTEBOOK ENVIRONMENT DIFFERS FROM KAGGLE'S PYTHON\n",
        "# ENVIRONMENT SO THERE MAY BE MISSING LIBRARIES USED BY YOUR\n",
        "# NOTEBOOK.\n",
        "\n",
        "digit_recognizer_path = kagglehub.competition_download('digit-recognizer')\n",
        "\n",
        "print('Data source import complete.')\n"
      ],
      "metadata": {
        "id": "-AfRfICnO96G"
      },
      "cell_type": "code",
      "outputs": [],
      "execution_count": null
    },
    {
      "cell_type": "code",
      "source": [
        "# This Python 3 environment comes with many helpful analytics libraries installed\n",
        "# It is defined by the kaggle/python Docker image: https://github.com/kaggle/docker-python\n",
        "# For example, here's several helpful packages to load\n",
        "\n",
        "import numpy as np # linear algebra\n",
        "import pandas as pd # data processing, CSV file I/O (e.g. pd.read_csv)\n",
        "\n",
        "# Input data files are available in the read-only \"../input/\" directory\n",
        "# For example, running this (by clicking run or pressing Shift+Enter) will list all files under the input directory\n",
        "\n",
        "import os\n",
        "for dirname, _, filenames in os.walk('/kaggle/input'):\n",
        "    for filename in filenames:\n",
        "        print(os.path.join(dirname, filename))\n",
        "\n",
        "# You can write up to 20GB to the current directory (/kaggle/working/) that gets preserved as output when you create a version using \"Save & Run All\"\n",
        "# You can also write temporary files to /kaggle/temp/, but they won't be saved outside of the current session"
      ],
      "metadata": {
        "_cell_guid": "b1076dfc-b9ad-4769-8c92-a6c4dae69d19",
        "_uuid": "8f2839f25d086af736a60e9eeb907d3b93b6e0e5",
        "execution": {
          "iopub.execute_input": "2025-04-27T22:36:49.02662Z",
          "iopub.status.busy": "2025-04-27T22:36:49.026191Z",
          "iopub.status.idle": "2025-04-27T22:36:51.08263Z",
          "shell.execute_reply": "2025-04-27T22:36:51.081696Z"
        },
        "papermill": {
          "duration": 2.062411,
          "end_time": "2025-04-27T22:36:51.084304",
          "exception": false,
          "start_time": "2025-04-27T22:36:49.021893",
          "status": "completed"
        },
        "tags": [],
        "id": "ae996876"
      },
      "outputs": [],
      "execution_count": null
    },
    {
      "cell_type": "code",
      "source": [
        "import pandas as pd\n",
        "from sklearn.linear_model import LogisticRegression\n",
        "from sklearn.metrics import accuracy_score\n",
        "from sklearn.preprocessing import StandardScaler\n",
        "\n",
        "# Step 1: Load the dataset\n",
        "train = pd.read_csv('/kaggle/input/digit-recognizer/train.csv')\n",
        "test = pd.read_csv('/kaggle/input/digit-recognizer/test.csv')\n",
        "\n",
        "# Step 2: Preprocessing\n",
        "# Separate features (X) and target (y)\n",
        "X = train.drop(columns=['label'])\n",
        "y = train['label']\n",
        "\n",
        "# Normalize the pixel values (0 to 255) to a range of 0 to 1 by dividing by 255\n",
        "X = X / 255.0\n",
        "\n",
        "# Step 3: Split the data into training and validation sets\n",
        "from sklearn.model_selection import train_test_split\n",
        "X_train, X_val, y_train, y_val = train_test_split(X, y, test_size=0.2, random_state=42)\n",
        "\n",
        "# Step 4: Train a Logistic Regression model\n",
        "model = LogisticRegression(max_iter=200)\n",
        "model.fit(X_train, y_train)\n",
        "\n",
        "# Step 5: Evaluate the model\n",
        "y_val_pred = model.predict(X_val)\n",
        "accuracy = accuracy_score(y_val, y_val_pred)\n",
        "print(f\"Accuracy on validation set: {accuracy * 100:.2f}%\")\n",
        "\n",
        "# Step 6: Make predictions on the test set\n",
        "test_data = test / 255.0  # Normalize test data\n",
        "test_predictions = model.predict(test_data)\n",
        "\n",
        "# Prepare the submission\n",
        "submission = pd.DataFrame({'ImageId': range(1, len(test_predictions) + 1), 'Label': test_predictions})\n",
        "\n",
        "# Save the predictions to a CSV file (for submission)\n",
        "submission.to_csv('submission.csv', index=False)\n",
        "\n",
        "print(\"Submission file has been created.\")\n"
      ],
      "metadata": {
        "execution": {
          "iopub.execute_input": "2025-04-27T22:36:51.089543Z",
          "iopub.status.busy": "2025-04-27T22:36:51.089073Z",
          "iopub.status.idle": "2025-04-27T22:37:26.41465Z",
          "shell.execute_reply": "2025-04-27T22:37:26.41338Z"
        },
        "papermill": {
          "duration": 35.332093,
          "end_time": "2025-04-27T22:37:26.418439",
          "exception": false,
          "start_time": "2025-04-27T22:36:51.086346",
          "status": "completed"
        },
        "tags": [],
        "id": "5f84b916"
      },
      "outputs": [],
      "execution_count": null
    },
    {
      "cell_type": "code",
      "source": [],
      "metadata": {
        "papermill": {
          "duration": 0.001524,
          "end_time": "2025-04-27T22:37:26.421874",
          "exception": false,
          "start_time": "2025-04-27T22:37:26.42035",
          "status": "completed"
        },
        "tags": [],
        "id": "cbf07a02"
      },
      "outputs": [],
      "execution_count": null
    }
  ]
}